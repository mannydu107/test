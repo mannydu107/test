{
 "cells": [
  {
   "cell_type": "code",
   "execution_count": 74,
   "metadata": {
    "collapsed": true
   },
   "outputs": [
    {
     "name": "stdout",
     "output_type": "stream",
     "text": [
      "丟10次硬幣相加結果:-2\n",
      "丟60次硬幣相加結果:-2\n",
      "丟110次硬幣相加結果:-2\n",
      "丟160次硬幣相加結果:-6\n",
      "丟210次硬幣相加結果:-20\n",
      "丟260次硬幣相加結果:4\n",
      "丟310次硬幣相加結果:32\n",
      "丟360次硬幣相加結果:46\n",
      "丟410次硬幣相加結果:50\n",
      "丟460次硬幣相加結果:40\n",
      "丟510次硬幣相加結果:54\n",
      "丟560次硬幣相加結果:24\n",
      "丟610次硬幣相加結果:36\n",
      "丟660次硬幣相加結果:46\n",
      "丟710次硬幣相加結果:38\n",
      "丟760次硬幣相加結果:76\n",
      "丟810次硬幣相加結果:68\n",
      "丟860次硬幣相加結果:58\n",
      "丟910次硬幣相加結果:112\n",
      "丟960次硬幣相加結果:106\n",
      "丟1010次硬幣相加結果:42\n",
      "丟1060次硬幣相加結果:14\n",
      "丟1110次硬幣相加結果:50\n",
      "丟1160次硬幣相加結果:106\n",
      "丟1210次硬幣相加結果:64\n",
      "丟1260次硬幣相加結果:40\n",
      "丟1310次硬幣相加結果:42\n",
      "丟1360次硬幣相加結果:-8\n",
      "丟1410次硬幣相加結果:42\n",
      "丟1460次硬幣相加結果:14\n",
      "丟1510次硬幣相加結果:60\n",
      "丟1560次硬幣相加結果:74\n",
      "丟1610次硬幣相加結果:-2\n",
      "丟1660次硬幣相加結果:66\n",
      "丟1710次硬幣相加結果:82\n",
      "丟1760次硬幣相加結果:50\n",
      "丟1810次硬幣相加結果:54\n",
      "丟1860次硬幣相加結果:92\n",
      "丟1910次硬幣相加結果:90\n",
      "丟1960次硬幣相加結果:32\n",
      "丟2010次硬幣相加結果:60\n",
      "丟2060次硬幣相加結果:90\n",
      "丟2110次硬幣相加結果:96\n",
      "丟2160次硬幣相加結果:54\n",
      "丟2210次硬幣相加結果:20\n",
      "丟2260次硬幣相加結果:20\n",
      "丟2310次硬幣相加結果:24\n",
      "丟2360次硬幣相加結果:26\n",
      "丟2410次硬幣相加結果:34\n",
      "丟2460次硬幣相加結果:24\n",
      "丟2510次硬幣相加結果:132\n",
      "丟2560次硬幣相加結果:246\n",
      "丟2610次硬幣相加結果:232\n",
      "丟2660次硬幣相加結果:282\n",
      "丟2710次硬幣相加結果:222\n",
      "丟2760次硬幣相加結果:246\n",
      "丟2810次硬幣相加結果:216\n",
      "丟2860次硬幣相加結果:212\n",
      "丟2910次硬幣相加結果:204\n",
      "丟2960次硬幣相加結果:156\n",
      "丟3010次硬幣相加結果:118\n",
      "丟3060次硬幣相加結果:44\n",
      "丟3110次硬幣相加結果:74\n",
      "丟3160次硬幣相加結果:8\n",
      "丟3210次硬幣相加結果:-138\n",
      "丟3260次硬幣相加結果:-110\n",
      "丟3310次硬幣相加結果:-190\n",
      "丟3360次硬幣相加結果:-202\n",
      "丟3410次硬幣相加結果:-180\n",
      "丟3460次硬幣相加結果:-150\n",
      "丟3510次硬幣相加結果:-44\n",
      "丟3560次硬幣相加結果:-98\n",
      "丟3610次硬幣相加結果:76\n",
      "丟3660次硬幣相加結果:12\n",
      "丟3710次硬幣相加結果:-38\n",
      "丟3760次硬幣相加結果:-92\n",
      "丟3810次硬幣相加結果:-144\n",
      "丟3860次硬幣相加結果:-132\n",
      "丟3910次硬幣相加結果:-166\n",
      "丟3960次硬幣相加結果:-190\n",
      "丟4010次硬幣相加結果:-226\n",
      "丟4060次硬幣相加結果:-216\n",
      "丟4110次硬幣相加結果:-272\n",
      "丟4160次硬幣相加結果:-228\n",
      "丟4210次硬幣相加結果:-220\n",
      "丟4260次硬幣相加結果:-200\n",
      "丟4310次硬幣相加結果:-264\n",
      "丟4360次硬幣相加結果:-244\n",
      "丟4410次硬幣相加結果:-180\n",
      "丟4460次硬幣相加結果:-164\n",
      "丟4510次硬幣相加結果:-176\n",
      "丟4560次硬幣相加結果:-200\n",
      "丟4610次硬幣相加結果:-94\n",
      "丟4660次硬幣相加結果:-116\n",
      "丟4710次硬幣相加結果:-156\n",
      "丟4760次硬幣相加結果:-232\n",
      "丟4810次硬幣相加結果:-368\n",
      "丟4860次硬幣相加結果:-412\n",
      "丟4910次硬幣相加結果:-334\n",
      "丟4960次硬幣相加結果:-472\n",
      "丟5010次硬幣相加結果:-542\n",
      "丟5060次硬幣相加結果:-454\n",
      "丟5110次硬幣相加結果:-454\n",
      "丟5160次硬幣相加結果:-368\n",
      "丟5210次硬幣相加結果:-346\n",
      "丟5260次硬幣相加結果:-322\n",
      "丟5310次硬幣相加結果:-396\n",
      "丟5360次硬幣相加結果:-440\n",
      "丟5410次硬幣相加結果:-410\n",
      "丟5460次硬幣相加結果:-392\n",
      "丟5510次硬幣相加結果:-312\n",
      "丟5560次硬幣相加結果:-388\n",
      "丟5610次硬幣相加結果:-370\n",
      "丟5660次硬幣相加結果:-318\n",
      "丟5710次硬幣相加結果:-266\n",
      "丟5760次硬幣相加結果:-250\n",
      "丟5810次硬幣相加結果:-382\n",
      "丟5860次硬幣相加結果:-372\n",
      "丟5910次硬幣相加結果:-400\n",
      "丟5960次硬幣相加結果:-370\n",
      "丟6010次硬幣相加結果:-348\n",
      "丟6060次硬幣相加結果:-302\n",
      "丟6110次硬幣相加結果:-318\n",
      "丟6160次硬幣相加結果:-416\n",
      "丟6210次硬幣相加結果:-370\n",
      "丟6260次硬幣相加結果:-432\n",
      "丟6310次硬幣相加結果:-292\n",
      "丟6360次硬幣相加結果:-290\n",
      "丟6410次硬幣相加結果:-386\n",
      "丟6460次硬幣相加結果:-562\n",
      "丟6510次硬幣相加結果:-602\n",
      "丟6560次硬幣相加結果:-466\n",
      "丟6610次硬幣相加結果:-438\n",
      "丟6660次硬幣相加結果:-500\n",
      "丟6710次硬幣相加結果:-536\n",
      "丟6760次硬幣相加結果:-482\n",
      "丟6810次硬幣相加結果:-398\n",
      "丟6860次硬幣相加結果:-206\n",
      "丟6910次硬幣相加結果:-252\n",
      "丟6960次硬幣相加結果:-248\n",
      "丟7010次硬幣相加結果:-190\n",
      "丟7060次硬幣相加結果:-188\n",
      "丟7110次硬幣相加結果:-134\n",
      "丟7160次硬幣相加結果:-106\n",
      "丟7210次硬幣相加結果:-222\n",
      "丟7260次硬幣相加結果:-260\n",
      "丟7310次硬幣相加結果:-316\n",
      "丟7360次硬幣相加結果:-244\n",
      "丟7410次硬幣相加結果:-176\n",
      "丟7460次硬幣相加結果:-44\n",
      "丟7510次硬幣相加結果:-32\n",
      "丟7560次硬幣相加結果:-4\n",
      "丟7610次硬幣相加結果:20\n",
      "丟7660次硬幣相加結果:-14\n",
      "丟7710次硬幣相加結果:-50\n",
      "丟7760次硬幣相加結果:-30\n",
      "丟7810次硬幣相加結果:-2\n",
      "丟7860次硬幣相加結果:-68\n",
      "丟7910次硬幣相加結果:-206\n",
      "丟7960次硬幣相加結果:-344\n",
      "丟8010次硬幣相加結果:-310\n",
      "丟8060次硬幣相加結果:-408\n",
      "丟8110次硬幣相加結果:-494\n",
      "丟8160次硬幣相加結果:-502\n",
      "丟8210次硬幣相加結果:-486\n",
      "丟8260次硬幣相加結果:-510\n",
      "丟8310次硬幣相加結果:-508\n",
      "丟8360次硬幣相加結果:-512\n",
      "丟8410次硬幣相加結果:-412\n",
      "丟8460次硬幣相加結果:-474\n",
      "丟8510次硬幣相加結果:-638\n",
      "丟8560次硬幣相加結果:-568\n",
      "丟8610次硬幣相加結果:-520\n",
      "丟8660次硬幣相加結果:-634\n",
      "丟8710次硬幣相加結果:-700\n",
      "丟8760次硬幣相加結果:-726\n",
      "丟8810次硬幣相加結果:-556\n",
      "丟8860次硬幣相加結果:-598\n",
      "丟8910次硬幣相加結果:-610\n",
      "丟8960次硬幣相加結果:-662\n",
      "丟9010次硬幣相加結果:-722\n",
      "丟9060次硬幣相加結果:-702\n",
      "丟9110次硬幣相加結果:-620\n",
      "丟9160次硬幣相加結果:-570\n",
      "丟9210次硬幣相加結果:-502\n",
      "丟9260次硬幣相加結果:-602\n",
      "丟9310次硬幣相加結果:-704\n",
      "丟9360次硬幣相加結果:-808\n",
      "丟9410次硬幣相加結果:-518\n",
      "丟9460次硬幣相加結果:-524\n",
      "丟9510次硬幣相加結果:-332\n",
      "丟9560次硬幣相加結果:-468\n",
      "丟9610次硬幣相加結果:-682\n",
      "丟9660次硬幣相加結果:-708\n",
      "丟9710次硬幣相加結果:-846\n",
      "丟9760次硬幣相加結果:-820\n",
      "丟9810次硬幣相加結果:-828\n",
      "丟9860次硬幣相加結果:-884\n",
      "丟9910次硬幣相加結果:-860\n",
      "丟9960次硬幣相加結果:-818\n"
     ]
    },
    {
     "data": {
      "text/plain": [
       "[<matplotlib.lines.Line2D at 0x15ee3df0>]"
      ]
     },
     "execution_count": 74,
     "metadata": {},
     "output_type": "execute_result"
    },
    {
     "data": {
      "image/png": "[encoded data removed]",
      "text/plain": [
       "<Figure size 432x288 with 1 Axes>"
      ]
     },
     "metadata": {
      "needs_background": "light"
     },
     "output_type": "display_data"
    }
   ],
   "source": [
    "import numpy as np\n",
    "from matplotlib import pyplot as plt\n",
    "import pandas as pd\n",
    "\n",
    "score = 0\n",
    "A = []\n",
    "\n",
    "for j in range(10, 10000, 50):\n",
    "    \n",
    "    for i in range(0, j):\n",
    "        num = np. random.randint(0, 2)\n",
    "\n",
    "        if num == 0:\n",
    "            result = 1\n",
    "        elif num == 1:\n",
    "            result = -1\n",
    "        else:\n",
    "            break\n",
    "            \n",
    "        score = score + result\n",
    "        \n",
    "    A.append(score)    \n",
    "    print(f'丟{j}次硬幣相加結果:{score}')\n",
    "    \n",
    "fig = plt.figure()\n",
    "ax = plt.axes()\n",
    "ax.plot(A,'-o')\n"
   ]
  },
  {
   "cell_type": "code",
   "execution_count": 63,
   "metadata": {
    "collapsed": true
   },
   "outputs": [
    {
     "name": "stdout",
     "output_type": "stream",
     "text": [
      "丟10次結果:-2\n",
      "[-1, -1, -1, -1, 1, 1, 1, -1, -1, 1]\n",
      "丟30次結果:-6\n",
      "[-1, -1, -1, -1, 1, 1, 1, -1, -1, 1, -1, 1, 1, 1, 1, 1, -1, 1, 1, -1, -1, -1, -1, 1, 1, -1, 1, -1, -1, -1, -1, -1, -1, 1, -1, -1, 1, -1, 1, -1]\n",
      "丟50次結果:4\n",
      "[-1, -1, -1, -1, 1, 1, 1, -1, -1, 1, -1, 1, 1, 1, 1, 1, -1, 1, 1, -1, -1, -1, -1, 1, 1, -1, 1, -1, -1, -1, -1, -1, -1, 1, -1, -1, 1, -1, 1, -1, 1, 1, -1, 1, 1, 1, 1, -1, -1, 1, 1, 1, 1, -1, -1, 1, 1, -1, 1, 1, -1, 1, -1, 1, 1, 1, -1, -1, 1, 1, -1, 1, 1, -1, -1, 1, 1, -1, -1, 1, -1, -1, 1, 1, 1, -1, 1, -1, -1, 1]\n",
      "丟70次結果:-2\n",
      "[-1, -1, -1, -1, 1, 1, 1, -1, -1, 1, -1, 1, 1, 1, 1, 1, -1, 1, 1, -1, -1, -1, -1, 1, 1, -1, 1, -1, -1, -1, -1, -1, -1, 1, -1, -1, 1, -1, 1, -1, 1, 1, -1, 1, 1, 1, 1, -1, -1, 1, 1, 1, 1, -1, -1, 1, 1, -1, 1, 1, -1, 1, -1, 1, 1, 1, -1, -1, 1, 1, -1, 1, 1, -1, -1, 1, 1, -1, -1, 1, -1, -1, 1, 1, 1, -1, 1, -1, -1, 1, 1, -1, -1, -1, -1, 1, -1, -1, -1, 1, 1, 1, -1, -1, -1, 1, -1, 1, 1, 1, -1, 1, 1, -1, 1, -1, -1, -1, -1, 1, 1, 1, -1, 1, -1, 1, 1, -1, -1, -1, 1, -1, 1, 1, -1, -1, -1, -1, 1, 1, -1, -1, 1, -1, 1, -1, 1, 1, -1, -1, 1, -1, 1, 1, 1, -1, -1, -1, -1, 1]\n",
      "丟90次結果:-10\n",
      "[-1, -1, -1, -1, 1, 1, 1, -1, -1, 1, -1, 1, 1, 1, 1, 1, -1, 1, 1, -1, -1, -1, -1, 1, 1, -1, 1, -1, -1, -1, -1, -1, -1, 1, -1, -1, 1, -1, 1, -1, 1, 1, -1, 1, 1, 1, 1, -1, -1, 1, 1, 1, 1, -1, -1, 1, 1, -1, 1, 1, -1, 1, -1, 1, 1, 1, -1, -1, 1, 1, -1, 1, 1, -1, -1, 1, 1, -1, -1, 1, -1, -1, 1, 1, 1, -1, 1, -1, -1, 1, 1, -1, -1, -1, -1, 1, -1, -1, -1, 1, 1, 1, -1, -1, -1, 1, -1, 1, 1, 1, -1, 1, 1, -1, 1, -1, -1, -1, -1, 1, 1, 1, -1, 1, -1, 1, 1, -1, -1, -1, 1, -1, 1, 1, -1, -1, -1, -1, 1, 1, -1, -1, 1, -1, 1, -1, 1, 1, -1, -1, 1, -1, 1, 1, 1, -1, -1, -1, -1, 1, -1, -1, -1, 1, 1, 1, 1, 1, 1, -1, 1, -1, -1, 1, -1, 1, -1, -1, -1, -1, -1, -1, 1, 1, 1, 1, 1, -1, 1, -1, -1, -1, -1, 1, 1, -1, -1, 1, -1, -1, -1, -1, 1, 1, -1, 1, -1, -1, -1, 1, 1, 1, -1, -1, 1, -1, -1, 1, -1, -1, -1, 1, -1, 1, -1, -1, 1, -1, -1, 1, -1, 1, 1, 1, -1, -1, 1, 1, -1, -1, -1, -1, 1, -1, -1, 1, 1, 1, 1, 1]\n"
     ]
    },
    {
     "data": {
      "text/plain": [
       "(array([0., 0., 0., 0., 0., 1., 0., 0., 0., 0.]),\n",
       " array([-10.5, -10.4, -10.3, -10.2, -10.1, -10. ,  -9.9,  -9.8,  -9.7,\n",
       "         -9.6,  -9.5]),\n",
       " <a list of 10 Patch objects>)"
      ]
     },
     "execution_count": 63,
     "metadata": {},
     "output_type": "execute_result"
    },
    {
     "data": {
      "image/png": "[encoded data removed]",
      "text/plain": [
       "<Figure size 432x288 with 1 Axes>"
      ]
     },
     "metadata": {
      "needs_background": "light"
     },
     "output_type": "display_data"
    }
   ],
   "source": [
    "import numpy as np\n",
    "from matplotlib import pyplot as plt\n",
    "import pandas as pd\n",
    "\n",
    "score = 0\n",
    "A = []\n",
    "\n",
    "for j in range(10, 100, 20):\n",
    "    for i in range(0, j):\n",
    "        num = np. random.randint(0, 2)\n",
    "\n",
    "        if num == 0:\n",
    "            result = 1\n",
    "        elif num == 1:\n",
    "            result = -1\n",
    "        else:\n",
    "            break\n",
    "\n",
    "        score = score + result  \n",
    "        A.append(result)\n",
    "\n",
    "    print(f'丟{j}次結果:{score}')\n",
    "    print(A)\n",
    "  \n"
   ]
  },
  {
   "cell_type": "code",
   "execution_count": 79,
   "metadata": {
    "collapsed": true
   },
   "outputs": [
    {
     "data": {
      "text/plain": [
       "[<matplotlib.lines.Line2D at 0x14ab9b20>]"
      ]
     },
     "execution_count": 79,
     "metadata": {},
     "output_type": "execute_result"
    },
    {
     "data": {
      "image/png": "[encoded data removed]",
      "text/plain": [
       "<Figure size 432x288 with 1 Axes>"
      ]
     },
     "metadata": {
      "needs_background": "light"
     },
     "output_type": "display_data"
    }
   ],
   "source": [
    "import numpy as np\n",
    "from matplotlib import pyplot as plt\n",
    "import pandas as pd\n",
    "\n",
    "score = 0\n",
    "A = []\n",
    "\n",
    "for j in range(10, 10000, 50):\n",
    "    \n",
    "    for i in range(0, j):\n",
    "        num = np. random.randint(0, 2)\n",
    "\n",
    "        if num == 0:\n",
    "            result = 1\n",
    "        elif num == 1:\n",
    "            result = -1\n",
    "        else:\n",
    "            break\n",
    "            \n",
    "        score = score + result\n",
    "    A.append(score) \n",
    "    \n",
    "fig = plt.figure()\n",
    "ax = plt.axes()\n",
    "ax.plot(A,'-')"
   ]
  },
  {
   "cell_type": "code",
   "execution_count": null,
   "metadata": {},
   "outputs": [],
   "source": []
  },
  {
   "cell_type": "code",
   "execution_count": null,
   "metadata": {},
   "outputs": [],
   "source": []
  }
 ],
 "metadata": {
  "kernelspec": {
   "display_name": "Python 3",
   "language": "python",
   "name": "python3"
  },
  "language_info": {
   "codemirror_mode": {
    "name": "ipython",
    "version": 3
   },
   "file_extension": ".py",
   "mimetype": "text/x-python",
   "name": "python",
   "nbconvert_exporter": "python",
   "pygments_lexer": "ipython3",
   "version": "3.8.3"
  }
 },
 "nbformat": 4,
 "nbformat_minor": 4
}
